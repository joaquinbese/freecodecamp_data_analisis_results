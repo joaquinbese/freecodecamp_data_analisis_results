{
 "cells": [
  {
   "cell_type": "code",
   "execution_count": 2,
   "id": "234d53ef",
   "metadata": {},
   "outputs": [],
   "source": [
    "import numpy as np"
   ]
  },
  {
   "cell_type": "code",
   "execution_count": 3,
   "id": "4f210ec8",
   "metadata": {},
   "outputs": [
    {
     "data": {
      "text/plain": [
       "[0, 1, 2, 3, 4, 5, 6, 7, 8]"
      ]
     },
     "execution_count": 3,
     "metadata": {},
     "output_type": "execute_result"
    }
   ],
   "source": [
    "lista=([0, 1, 2, 3, 4, 5, 6, 7, 8])\n",
    "lista"
   ]
  },
  {
   "cell_type": "code",
   "execution_count": 65,
   "id": "6d441b4f",
   "metadata": {
    "scrolled": true
   },
   "outputs": [
    {
     "data": {
      "text/plain": [
       "array([[0, 1, 2],\n",
       "       [3, 4, 5],\n",
       "       [6, 7, 8]])"
      ]
     },
     "execution_count": 65,
     "metadata": {},
     "output_type": "execute_result"
    }
   ],
   "source": [
    "array=np.array(lista).reshape(3,3)\n",
    "array"
   ]
  },
  {
   "cell_type": "code",
   "execution_count": 68,
   "id": "d6b07a99",
   "metadata": {},
   "outputs": [],
   "source": [
    "diccionario={'mean':[[array.mean(axis=0)],[array.mean(axis=1)],[array.flatten().mean()]],\n",
    "            'variance':[[array.var(axis=0)],[array.var(axis=1)],[array.var()]],\n",
    "            'standard deviation':[[array.std(axis=0)],[array.std(axis=1)],[array.std()]],\n",
    "            'max':[[array.max(axis=0)],[array.max(axis=1)],[array.max()]],\n",
    "            'min':[[array.min(axis=0)],[array.min(axis=1)],[array.min()]],\n",
    "            'sum':[[array.sum(axis=0)],[array.sum(axis=1)],[array.sum()]]}"
   ]
  },
  {
   "cell_type": "code",
   "execution_count": 69,
   "id": "e2d65a9c",
   "metadata": {},
   "outputs": [
    {
     "data": {
      "text/plain": [
       "{'mean': [[array([3., 4., 5.])], [array([1., 4., 7.])], [4.0]],\n",
       " 'variance': [[array([6., 6., 6.])],\n",
       "  [array([0.66666667, 0.66666667, 0.66666667])],\n",
       "  [6.666666666666667]],\n",
       " 'standard deviation': [[array([2.44948974, 2.44948974, 2.44948974])],\n",
       "  [array([0.81649658, 0.81649658, 0.81649658])],\n",
       "  [2.581988897471611]],\n",
       " 'max': [[array([6, 7, 8])], [array([2, 5, 8])], [8]],\n",
       " 'min': [[array([0, 1, 2])], [array([0, 3, 6])], [0]],\n",
       " 'sum': [[array([ 9, 12, 15])], [array([ 3, 12, 21])], [36]]}"
      ]
     },
     "execution_count": 69,
     "metadata": {},
     "output_type": "execute_result"
    }
   ],
   "source": [
    "diccionario\n"
   ]
  },
  {
   "cell_type": "code",
   "execution_count": 105,
   "id": "5babcbef",
   "metadata": {},
   "outputs": [
    {
     "ename": "SyntaxError",
     "evalue": "invalid syntax (1976935643.py, line 7)",
     "output_type": "error",
     "traceback": [
      "\u001b[0;36m  Cell \u001b[0;32mIn[105], line 7\u001b[0;36m\u001b[0m\n\u001b[0;31m    ['mean']=[array.mean(axis=0),array.mean(axis=1),array.flatten().mean()],\u001b[0m\n\u001b[0m            ^\u001b[0m\n\u001b[0;31mSyntaxError\u001b[0m\u001b[0;31m:\u001b[0m invalid syntax\n"
     ]
    }
   ],
   "source": [
    "def calculate(lista):\n",
    "    if len(lista)!=9:\n",
    "        raise ValueError(\"La lista debe contener nueve números\")\n",
    "    array=np.array(lista).reshape(3,3)\n",
    "    calculations={}\n",
    "    calculations={\n",
    "        'mean':[array.mean(axis=0),array.mean(axis=1),array.flatten().mean()],\n",
    "                   'variance':[array.var(axis=0),array.var(axis=1),array.var()],\n",
    "                   'standard deviation':[array.std(axis=0),array.std(axis=1),array.std()],\n",
    "                   'max':[array.max(axis=0),array.max(axis=1),array.max()],\n",
    "                   'min':[array.min(axis=0),array.min(axis=1),array.min()],\n",
    "                   'sum':[array.sum(axis=0),array.sum(axis=1),array.sum()]\n",
    "                  }\n",
    "\n",
    "    return calculations\n",
    "    \n",
    "        "
   ]
  },
  {
   "cell_type": "code",
   "execution_count": 104,
   "id": "ec65649f",
   "metadata": {},
   "outputs": [
    {
     "name": "stdout",
     "output_type": "stream",
     "text": [
      "{'mean': [[3.0, 4.0, 5.0], [1.0, 4.0, 7.0], 4.0], 'variance': [[6.0, 6.0, 6.0], [0.6666666666666666, 0.6666666666666666, 0.6666666666666666], 6.666666666666667], 'standard deviation': [[2.449489742783178, 2.449489742783178, 2.449489742783178], [0.816496580927726, 0.816496580927726, 0.816496580927726], 2.581988897471611], 'max': [[6, 7, 8], [2, 5, 8], 8], 'min': [[0, 1, 2], [0, 3, 6], 0], 'sum': [[9, 12, 15], [3, 12, 21], 36]}\n"
     ]
    }
   ],
   "source": [
    "print(calculate([0, 1, 2, 3, 4, 5, 6, 7, 8]))\n"
   ]
  },
  {
   "cell_type": "code",
   "execution_count": 93,
   "id": "46c5498d",
   "metadata": {},
   "outputs": [],
   "source": [
    "import numpy as np\n",
    "\n",
    "def calculate(numbers):\n",
    "    if len(numbers) != 9:\n",
    "        raise ValueError(\"List must contain nine numbers.\")\n",
    "    data = np.reshape(np.array(numbers),(3,3))\n",
    "    calculations = {}\n",
    "    calculations['mean'] = [np.mean(data, axis=0).tolist(), np.mean(data, axis=1).tolist(), np.mean(data.flatten()).tolist()]\n",
    "    calculations['variance'] = [np.var(data, axis=0).tolist(), np.var(data, axis=1).tolist(), np.var(data.flatten()).tolist()]\n",
    "    calculations['standard deviation'] = [np.std(data, axis=0).tolist(), np.std(data, axis=1).tolist(), np.std(data.flatten()).tolist()]\n",
    "    calculations['max'] = [np.max(data, axis=0).tolist(), np.max(data, axis=1).tolist(), np.max(data.flatten()).tolist()]\n",
    "    calculations['min'] = [np.min(data, axis=0).tolist(), np.min(data, axis=1).tolist(), np.min(data.flatten()).tolist()]\n",
    "    calculations['sum'] = [np.sum(data, axis=0).tolist(), np.sum(data, axis=1).tolist(), np.sum(data.flatten()).tolist()]\n",
    "    return calculations"
   ]
  },
  {
   "cell_type": "code",
   "execution_count": 94,
   "id": "8d207aa8",
   "metadata": {},
   "outputs": [
    {
     "name": "stdout",
     "output_type": "stream",
     "text": [
      "{'mean': [[3.0, 4.0, 5.0], [1.0, 4.0, 7.0], 4.0], 'variance': [[6.0, 6.0, 6.0], [0.6666666666666666, 0.6666666666666666, 0.6666666666666666], 6.666666666666667], 'standard deviation': [[2.449489742783178, 2.449489742783178, 2.449489742783178], [0.816496580927726, 0.816496580927726, 0.816496580927726], 2.581988897471611], 'max': [[6, 7, 8], [2, 5, 8], 8], 'min': [[0, 1, 2], [0, 3, 6], 0], 'sum': [[9, 12, 15], [3, 12, 21], 36]}\n"
     ]
    }
   ],
   "source": [
    "print(calculate([0, 1, 2, 3, 4, 5, 6, 7, 8]))"
   ]
  }
 ],
 "metadata": {
  "kernelspec": {
   "display_name": "Python 3 (ipykernel)",
   "language": "python",
   "name": "python3"
  },
  "language_info": {
   "codemirror_mode": {
    "name": "ipython",
    "version": 3
   },
   "file_extension": ".py",
   "mimetype": "text/x-python",
   "name": "python",
   "nbconvert_exporter": "python",
   "pygments_lexer": "ipython3",
   "version": "3.11.2"
  }
 },
 "nbformat": 4,
 "nbformat_minor": 5
}
